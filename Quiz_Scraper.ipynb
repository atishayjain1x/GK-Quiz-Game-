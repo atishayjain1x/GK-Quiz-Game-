{
 "cells": [
  {
   "cell_type": "code",
   "execution_count": null,
   "metadata": {},
   "outputs": [
    {
     "name": "stdout",
     "output_type": "stream",
     "text": [
      "1. Which Indian state/UT launched ‘Mukhyamantri COVID-19 Pariwar Aarthik Sahayata Yojana’?\n",
      "[A] Odisha\n",
      "[B] Delhi\n",
      "[C] Bihar\n",
      "[D] West Bengal\n",
      "B\n",
      "2. Which country hosted the BRICS Education Ministers 2021?\n",
      "[A] India\n",
      "[B] Russia\n",
      "[C] China\n",
      "[D] Brazil\n",
      "A\n",
      "3. ‘Grand Ethiopian Renaissance Dam’ is located on the bank of which river?\n",
      "[A] Nile\n",
      "[B] Congo\n",
      "[C] Zambezi\n",
      "[D] Niger\n"
     ]
    }
   ],
   "source": [
    "import random\n",
    "from selenium import webdriver\n",
    "import time\n",
    "\n",
    "\n",
    "e=webdriver.Chrome(executable_path=r\"E:/chromedriver_win32/chromedriver.exe\")\n",
    "e.get(\"https://www.gktoday.in/category/gk-current-affairs-quiz-questions-answers/\")\n",
    "a=e.find_elements_by_partial_link_text(\"Daily Current Affairs Quiz\")\n",
    "s=random.randint(0,4)\n",
    "a[s].click()\n",
    "\n",
    "q=[]\n",
    "o=[]\n",
    "\n",
    "s=e.find_elements_by_xpath(\"//div[@class='wp_quiz_question testclass']\")\n",
    "r=e.find_elements_by_xpath(\"//div[@class='wp_quiz_question_options']\")\n",
    "\n",
    "for c in s:\n",
    "    q.append(c.text.replace('\\n',' '))\n",
    "for t in r:\n",
    "    o.append(t.text)\n",
    "h=e.find_elements_by_xpath(\"//a[@class='wp_basic_quiz_showans_btn']\")\n",
    "for i in h:\n",
    "    i.click()\n",
    "v=e.find_elements_by_xpath(\"//div[@class='ques_answer']\")\n",
    "d=[]\n",
    "ans=[]\n",
    "for x in v:\n",
    "    h=x.text\n",
    "    h=h.partition(':')\n",
    "    ans.append(h[-1].lstrip())\n",
    "    \n",
    "def check(ans,i,myans):\n",
    "    if ans[i].startswith(myans.upper()):\n",
    "        return 1\n",
    "    return 0\n",
    "\n",
    "\n",
    "i=0\n",
    "score=0\n",
    "while(i<len(q)):\n",
    "    print(q[i])\n",
    "    print(o[i])\n",
    "    a=input()\n",
    "    score+=check(ans,i,a)\n",
    "    i+=1\n",
    "\n",
    "print('Your Score Is',(score/5)*100,'%')\n",
    "    \n",
    "    "
   ]
  },
  {
   "cell_type": "code",
   "execution_count": 3,
   "metadata": {},
   "outputs": [
    {
     "name": "stdout",
     "output_type": "stream",
     "text": [
      "['B [Chhattisgarh]', 'B [China]', 'B [Base Erosion and Profit Shifting]', 'B [7.5 %]', '']\n"
     ]
    }
   ],
   "source": [
    "print(ans)"
   ]
  }
 ],
 "metadata": {
  "kernelspec": {
   "display_name": "Python 3",
   "language": "python",
   "name": "python3"
  },
  "language_info": {
   "codemirror_mode": {
    "name": "ipython",
    "version": 3
   },
   "file_extension": ".py",
   "mimetype": "text/x-python",
   "name": "python",
   "nbconvert_exporter": "python",
   "pygments_lexer": "ipython3",
   "version": "3.8.3"
  }
 },
 "nbformat": 4,
 "nbformat_minor": 4
}
